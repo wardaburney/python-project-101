{
  "nbformat": 4,
  "nbformat_minor": 0,
  "metadata": {
    "colab": {
      "provenance": [],
      "authorship_tag": "ABX9TyPyAw5lhPdF2HWHa+EP1f9F",
      "include_colab_link": true
    },
    "kernelspec": {
      "name": "python3",
      "display_name": "Python 3"
    },
    "language_info": {
      "name": "python"
    }
  },
  "cells": [
    {
      "cell_type": "markdown",
      "metadata": {
        "id": "view-in-github",
        "colab_type": "text"
      },
      "source": [
        "<a href=\"https://colab.research.google.com/github/wardaburney/python-project-101/blob/main/project_3.ipynb\" target=\"_parent\"><img src=\"https://colab.research.google.com/assets/colab-badge.svg\" alt=\"Open In Colab\"/></a>"
      ]
    },
    {
      "cell_type": "code",
      "execution_count": 6,
      "metadata": {
        "colab": {
          "base_uri": "https://localhost:8080/"
        },
        "id": "RGoXjCub2Pro",
        "outputId": "88ccdb3c-e942-4afc-994d-64cc8034c6e4"
      },
      "outputs": [
        {
          "output_type": "stream",
          "name": "stdout",
          "text": [
            "computer ne ek secert no. socha hai usse guess kro\n",
            "apna andaza lgao(1-10:)7\n",
            "Bara socho\n",
            "apna andaza lgao(1-10:)8\n",
            "Bara socho\n",
            "apna andaza lgao(1-10:)9\n",
            "Bara socho\n",
            "apna andaza lgao(1-10:)10\n",
            "tumne shi guess kia \n"
          ]
        }
      ],
      "source": [
        "import random\n",
        "print(\"computer ne ek secert no. socha hai usse guess kro\")\n",
        "secret_Number = random.randint(1,10)\n",
        "try:\n",
        " while True:\n",
        "  user_input =int(input(\"apna andaza lgao(1-10:)\"))\n",
        "  if user_input == secret_Number:\n",
        "    print (\"tumne shi guess kia \")\n",
        "    break\n",
        "  elif user_input < secret_Number:\n",
        "        print(\"Bara socho\")\n",
        "\n",
        "  elif user_input < secret_Number:\n",
        "        print(\"chotha socho\")\n",
        "except ValueError:\n",
        "          print(\"Invalid input\")\n"
      ]
    }
  ]
}
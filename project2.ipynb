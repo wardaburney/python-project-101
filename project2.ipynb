{
  "nbformat": 4,
  "nbformat_minor": 0,
  "metadata": {
    "colab": {
      "provenance": [],
      "authorship_tag": "ABX9TyOEKi1FU68BdZajc22aosH4",
      "include_colab_link": true
    },
    "kernelspec": {
      "name": "python3",
      "display_name": "Python 3"
    },
    "language_info": {
      "name": "python"
    }
  },
  "cells": [
    {
      "cell_type": "markdown",
      "metadata": {
        "id": "view-in-github",
        "colab_type": "text"
      },
      "source": [
        "<a href=\"https://colab.research.google.com/github/wardaburney/python-project-101/blob/main/project2.ipynb\" target=\"_parent\"><img src=\"https://colab.research.google.com/assets/colab-badge.svg\" alt=\"Open In Colab\"/></a>"
      ]
    },
    {
      "cell_type": "code",
      "execution_count": 11,
      "metadata": {
        "colab": {
          "base_uri": "https://localhost:8080/"
        },
        "id": "EznWCAQGB8im",
        "outputId": "6d56ed9b-60f6-474f-d59f-5699c53af5ef"
      },
      "outputs": [
        {
          "output_type": "stream",
          "name": "stdout",
          "text": [
            "socho ek secret no. 1 se 10 beech🤔\n",
            "apna secret no. likho (computer isko guess krega):6\n",
            "computer ka pehla guess hai:7\n",
            "kya yeh guess shi hai?(chotha /bara/shi):bara\n",
            "too high..\n",
            "computer ka new guess hai:5\n",
            "kya yeh guess shi hai?(chotha /bara/shi):chotha\n",
            "too low..\n",
            "computer ka new guess hai:3\n",
            "kya yeh guess shi hai?(chotha /bara/shi):chotha \n",
            "ghlt input! srf bara,chotha ya shi likho .\n",
            "kya yeh guess shi hai?(chotha /bara/shi):chotha\n",
            "too low..\n",
            "computer ka new guess hai:2\n",
            "kya yeh guess shi hai?(chotha /bara/shi):bara\n",
            "too high..\n",
            "computer ka new guess hai:6\n",
            "kya yeh guess shi hai?(chotha /bara/shi):shi\n",
            "yeh!🎉 computer ne correct guess krlia✅\n"
          ]
        }
      ],
      "source": [
        "import random\n",
        "print(\"socho ek secret no. 1 se 10 beech🤔\")\n",
        "user_input = int(input(\"apna secret no. likho (computer isko guess krega):\"))\n",
        "\n",
        "computer_num = random.randint(1,10)\n",
        "print(f\"computer ka pehla guess hai:{computer_num}\")\n",
        "\n",
        "\n",
        "while True:\n",
        " feedback = input(\"kya yeh guess shi hai?(chotha /bara/shi):\")\n",
        " if feedback == \"shi\":\n",
        "  print(\"yeh!🎉 computer ne correct guess krlia✅\" )\n",
        "  break\n",
        " elif feedback == \"chotha\":\n",
        "  print(\"too low..\")\n",
        " elif feedback == \"bara\":\n",
        "  print(\"too high..\")\n",
        " else:\n",
        "   print(\"ghlt input! srf bara,chotha ya shi likho .\")\n",
        "   continue\n",
        " computer_num = random.randint(1,10)\n",
        " print(f\"computer ka new guess hai:{computer_num}\")\n"
      ]
    }
  ]
}
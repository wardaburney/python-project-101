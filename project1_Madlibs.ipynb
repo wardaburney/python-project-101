{
  "nbformat": 4,
  "nbformat_minor": 0,
  "metadata": {
    "colab": {
      "provenance": [],
      "authorship_tag": "ABX9TyPGgCTuPmUCAvi3oUjl8Rmh",
      "include_colab_link": true
    },
    "kernelspec": {
      "name": "python3",
      "display_name": "Python 3"
    },
    "language_info": {
      "name": "python"
    }
  },
  "cells": [
    {
      "cell_type": "markdown",
      "metadata": {
        "id": "view-in-github",
        "colab_type": "text"
      },
      "source": [
        "<a href=\"https://colab.research.google.com/github/wardaburney/python-project-101/blob/main/project1_Madlibs.ipynb\" target=\"_parent\"><img src=\"https://colab.research.google.com/assets/colab-badge.svg\" alt=\"Open In Colab\"/></a>"
      ]
    },
    {
      "cell_type": "code",
      "execution_count": null,
      "metadata": {
        "colab": {
          "base_uri": "https://localhost:8080/"
        },
        "id": "R6bbcWfQRnyk",
        "outputId": "a844642e-b45b-4186-b739-db2d071aceb8"
      },
      "outputs": [
        {
          "output_type": "stream",
          "name": "stdout",
          "text": [
            "enter name..ALI\n",
            "enter city..LAHORE\n",
            "enter animal..TIGER\n",
            "enter verb..CHUP\n",
            "enter adjective..DARPOK\n",
            "ekdin, ALI LAHORE gya wahan usne ek DARPOK TIGER  dekha jo CHUP rha tha . ALI boht heran hua . \n"
          ]
        }
      ],
      "source": [
        "def Madlibs():\n",
        "  name = str(input(\"enter name..\"))\n",
        "  city = str(input(\"enter city..\"))\n",
        "  animal = str(input(\"enter animal..\"))\n",
        "  verb = str(input(\"enter verb..\"))\n",
        "  adjective = str(input(\"enter adjective..\"))\n",
        "\n",
        "  story = f\"ekdin, {name} {city} gya wahan usne ek {adjective} {animal}  dekha jo {verb} rha tha . {name} boht heran hua . \"\n",
        "  print(story)\n",
        "\n",
        "Madlibs()\n"
      ]
    },
    {
      "cell_type": "code",
      "source": [
        "# CALCULATOR BNAYENGE SIMPLE\n",
        "def calculator(first_num, second_num, operator):\n",
        "  if operator == \"+\":\n",
        "    print(first_num + second_num)\n",
        "  elif operator == \"-\":\n",
        "    print(first_num - second_num)\n",
        "  elif operator == \"/\":\n",
        "    print(first_num / second_num)\n",
        "  elif operator == \"*\":\n",
        "    print(first_num * second_num)\n",
        "\n",
        "first = int(input(\"enter first number \"))\n",
        "second = int(input(\"enter second number \"))\n",
        "operator = input(\"enter operator number \")\n",
        "calculator (first,second,operator)"
      ],
      "metadata": {
        "colab": {
          "base_uri": "https://localhost:8080/"
        },
        "id": "-96zAE4ZaCOq",
        "outputId": "95472cbf-960c-45da-b56e-940f607e983e"
      },
      "execution_count": 5,
      "outputs": [
        {
          "output_type": "stream",
          "name": "stdout",
          "text": [
            "enter first number 2\n",
            "enter second number 5\n",
            "enter operator number /\n",
            "0.4\n"
          ]
        }
      ]
    }
  ]
}